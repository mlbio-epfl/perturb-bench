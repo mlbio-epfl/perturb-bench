{
 "cells": [
  {
   "cell_type": "code",
   "execution_count": 1,
   "metadata": {},
   "outputs": [
    {
     "name": "stderr",
     "output_type": "stream",
     "text": [
      "OMP: Info #271: omp_set_nested routine deprecated, please use omp_set_max_active_levels instead.\n"
     ]
    }
   ],
   "source": [
    "import os\n",
    "import numpy as np\n",
    "import pandas as pd\n",
    "import matplotlib.pyplot as plt\n",
    "from tqdm import tqdm\n",
    "from data import get_pert_data\n",
    "\n",
    "os.chdir('..')\n",
    "\n",
    "def jaccard_similarity(list1, list2):\n",
    "    \"\"\"\n",
    "    Compute the Jaccard similarity between two lists.\n",
    "    \"\"\"\n",
    "    set1 = set(list1)\n",
    "    set2 = set(list2)\n",
    "    return len(set1.intersection(set2)) / len(set1.union(set2))\n",
    "\n",
    "\n",
    "def get_topk_de_gene_ids(ctrl, post, k=20):\n",
    "    \"\"\"\n",
    "    Get the top k differentially expressed genes from the results.\n",
    "    \"\"\"\n",
    "    # Get the top k differentially expressed genes\n",
    "    diff = post - ctrl\n",
    "    diff_genes_ids = np.argsort(np.abs(diff))[-k:]\n",
    "    return diff_genes_ids"
   ]
  },
  {
   "cell_type": "code",
   "execution_count": 2,
   "metadata": {},
   "outputs": [
    {
     "name": "stderr",
     "output_type": "stream",
     "text": [
      "Found local copy...\n",
      "Found local copy...\n",
      "Found local copy...\n",
      "These perturbations are not in the GO graph and their perturbation can thus not be predicted\n",
      "['RHOXF2BB+ctrl' 'LYL1+IER5L' 'ctrl+IER5L' 'KIAA1804+ctrl' 'IER5L+ctrl'\n",
      " 'RHOXF2BB+ZBTB25' 'RHOXF2BB+SET']\n",
      "Local copy of pyg dataset is detected. Loading...\n",
      "Done!\n",
      "Local copy of split is detected. Loading...\n",
      "Simulation split test composition:\n",
      "combo_seen0:10\n",
      "combo_seen1:48\n",
      "combo_seen2:18\n",
      "unseen_single:41\n",
      "Done!\n"
     ]
    },
    {
     "name": "stdout",
     "output_type": "stream",
     "text": [
      "here1\n"
     ]
    },
    {
     "name": "stderr",
     "output_type": "stream",
     "text": [
      "100%|██████████| 117/117 [00:00<00:00, 1330.23it/s]"
     ]
    },
    {
     "name": "stdout",
     "output_type": "stream",
     "text": [
      "jaccard similarity:  0.21037236611380877\n"
     ]
    },
    {
     "name": "stderr",
     "output_type": "stream",
     "text": [
      "\n"
     ]
    },
    {
     "data": {
      "text/plain": [
       "(array([ 5., 24., 25., 21., 13., 18.,  5.,  2.,  2.,  2.]),\n",
       " array([0.02564103, 0.07692308, 0.12820513, 0.17948718, 0.23076923,\n",
       "        0.28205128, 0.33333333, 0.38461538, 0.43589744, 0.48717949,\n",
       "        0.53846154]),\n",
       " <BarContainer object of 10 artists>)"
      ]
     },
     "execution_count": 2,
     "metadata": {},
     "output_type": "execute_result"
    },
    {
     "data": {
      "image/png": "[encoded data removed]",
      "text/plain": [
       "<Figure size 432x288 with 1 Axes>"
      ]
     },
     "metadata": {
      "needs_background": "light"
     },
     "output_type": "display_data"
    }
   ],
   "source": [
    "n_train = None\n",
    "pert_data = get_pert_data(dataset=\"Norman2019\", seed=0)\n",
    "\n",
    "# Split train and test\n",
    "test_adata = pert_data.adata[pert_data.adata.obs[\"split\"] == \"test\"]\n",
    "train_adata = pert_data.adata[pert_data.adata.obs[\"split\"] == \"train\"]\n",
    "\n",
    "# Get control mean, non control mean (pert_mean), and non control mean differential\n",
    "control_adata = train_adata[train_adata.obs[\"control\"] == 1]\n",
    "pert_adata = train_adata[train_adata.obs[\"control\"] == 0]\n",
    "control_mean = np.array(control_adata.X.mean(axis=0))[0]\n",
    "\n",
    "# Load the baseline results\n",
    "gt = pd.read_csv(\"results/Norman2019_0_nonctl-mean_post-gt.csv\")\n",
    "pred = pd.read_csv(\"results/Norman2019_0_nonctl-mean_post-pred.csv\")\n",
    "\n",
    "if n_train is not None:\n",
    "    gt = gt[gt[\"n_train\"] == n_train]\n",
    "    pred = pred[pred[\"n_train\"] == n_train]\n",
    "\n",
    "post_gt = gt.drop(columns=[\"condition\", \"n_train\"], inplace=False).to_numpy()\n",
    "post_pred = pred.drop(columns=[\"condition\", \"n_train\"], inplace=False).to_numpy()\n",
    "\n",
    "jaccard, pearson = [], []\n",
    "for i in tqdm(range(post_gt.shape[0])):\n",
    "    true_de_ids = get_topk_de_gene_ids(control_mean, post_gt[i], k=20)\n",
    "    pred_de_ids = get_topk_de_gene_ids(control_mean, post_pred[i], k=20)\n",
    "    jaccard.append(jaccard_similarity(true_de_ids, pred_de_ids))\n",
    "\n",
    "print(\"jaccard similarity: \", np.mean(jaccard))\n",
    "# plot histogram of jaccard similarity\n",
    "plt.hist(jaccard, bins=10)"
   ]
  },
  {
   "cell_type": "code",
   "execution_count": 3,
   "metadata": {},
   "outputs": [
    {
     "name": "stderr",
     "output_type": "stream",
     "text": [
      "Found local copy...\n",
      "Found local copy...\n",
      "Found local copy...\n",
      "These perturbations are not in the GO graph and their perturbation can thus not be predicted\n",
      "['RHOXF2BB+ctrl' 'LYL1+IER5L' 'ctrl+IER5L' 'KIAA1804+ctrl' 'IER5L+ctrl'\n",
      " 'RHOXF2BB+ZBTB25' 'RHOXF2BB+SET']\n",
      "Local copy of pyg dataset is detected. Loading...\n",
      "Done!\n",
      "Local copy of split is detected. Loading...\n",
      "Simulation split test composition:\n",
      "combo_seen0:10\n",
      "combo_seen1:48\n",
      "combo_seen2:18\n",
      "unseen_single:41\n",
      "Done!\n"
     ]
    },
    {
     "name": "stdout",
     "output_type": "stream",
     "text": [
      "here1\n"
     ]
    },
    {
     "name": "stderr",
     "output_type": "stream",
     "text": [
      "100%|██████████| 117/117 [00:00<00:00, 1274.07it/s]"
     ]
    },
    {
     "name": "stdout",
     "output_type": "stream",
     "text": [
      "jaccard similarity:  0.3177507792505231\n"
     ]
    },
    {
     "name": "stderr",
     "output_type": "stream",
     "text": [
      "\n"
     ]
    },
    {
     "data": {
      "text/plain": [
       "(array([ 6., 15., 24.,  8., 19., 10.,  8.,  8., 15.,  4.]),\n",
       " array([0.02564103, 0.08974359, 0.15384615, 0.21794872, 0.28205128,\n",
       "        0.34615385, 0.41025641, 0.47435897, 0.53846154, 0.6025641 ,\n",
       "        0.66666667]),\n",
       " <BarContainer object of 10 artists>)"
      ]
     },
     "execution_count": 3,
     "metadata": {},
     "output_type": "execute_result"
    },
    {
     "data": {
      "image/png": "[encoded data removed]",
      "text/plain": [
       "<Figure size 432x288 with 1 Axes>"
      ]
     },
     "metadata": {
      "needs_background": "light"
     },
     "output_type": "display_data"
    }
   ],
   "source": [
    "n_train = None\n",
    "pert_data = get_pert_data(dataset=\"Norman2019\", seed=0)\n",
    "\n",
    "# Split train and test\n",
    "test_adata = pert_data.adata[pert_data.adata.obs[\"split\"] == \"test\"]\n",
    "train_adata = pert_data.adata[pert_data.adata.obs[\"split\"] == \"train\"]\n",
    "\n",
    "# Get control mean, non control mean (pert_mean), and non control mean differential\n",
    "control_adata = train_adata[train_adata.obs[\"control\"] == 1]\n",
    "pert_adata = train_adata[train_adata.obs[\"control\"] == 0]\n",
    "control_mean = np.array(control_adata.X.mean(axis=0))[0]\n",
    "\n",
    "# Load the baseline results\n",
    "gt = pd.read_csv(\"results/Norman2019_0_matching-mean_post-gt.csv\")\n",
    "pred = pd.read_csv(\"results/Norman2019_0_matching-mean_post-pred.csv\")\n",
    "\n",
    "if n_train is not None:\n",
    "    gt = gt[gt[\"n_train\"] == n_train]\n",
    "    pred = pred[pred[\"n_train\"] == n_train]\n",
    "\n",
    "post_gt = gt.drop(columns=[\"condition\", \"n_train\"], inplace=False).to_numpy()\n",
    "post_pred = pred.drop(columns=[\"condition\", \"n_train\"], inplace=False).to_numpy()\n",
    "\n",
    "jaccard, pearson = [], []\n",
    "for i in tqdm(range(post_gt.shape[0])):\n",
    "    true_de_ids = get_topk_de_gene_ids(control_mean, post_gt[i], k=20)\n",
    "    pred_de_ids = get_topk_de_gene_ids(control_mean, post_pred[i], k=20)\n",
    "    jaccard.append(jaccard_similarity(true_de_ids, pred_de_ids))\n",
    "\n",
    "print(\"jaccard similarity: \", np.mean(jaccard))\n",
    "# plot histogram of jaccard similarity\n",
    "plt.hist(jaccard, bins=10)"
   ]
  },
  {
   "cell_type": "markdown",
   "metadata": {},
   "source": [
    "### 1-gene"
   ]
  },
  {
   "cell_type": "code",
   "execution_count": 4,
   "metadata": {},
   "outputs": [
    {
     "name": "stderr",
     "output_type": "stream",
     "text": [
      "Found local copy...\n",
      "Found local copy...\n",
      "Found local copy...\n",
      "These perturbations are not in the GO graph and their perturbation can thus not be predicted\n",
      "['RHOXF2BB+ctrl' 'LYL1+IER5L' 'ctrl+IER5L' 'KIAA1804+ctrl' 'IER5L+ctrl'\n",
      " 'RHOXF2BB+ZBTB25' 'RHOXF2BB+SET']\n",
      "Local copy of pyg dataset is detected. Loading...\n",
      "Done!\n",
      "Local copy of split is detected. Loading...\n",
      "Simulation split test composition:\n",
      "combo_seen0:10\n",
      "combo_seen1:48\n",
      "combo_seen2:18\n",
      "unseen_single:41\n",
      "Done!\n"
     ]
    },
    {
     "name": "stdout",
     "output_type": "stream",
     "text": [
      "here1\n"
     ]
    },
    {
     "name": "stderr",
     "output_type": "stream",
     "text": [
      "100%|██████████| 47/47 [00:00<00:00, 1238.60it/s]"
     ]
    },
    {
     "name": "stdout",
     "output_type": "stream",
     "text": [
      "jaccard similarity:  0.19857421150941337\n"
     ]
    },
    {
     "name": "stderr",
     "output_type": "stream",
     "text": [
      "\n"
     ]
    },
    {
     "data": {
      "text/plain": [
       "(array([ 3.,  9., 12.,  8.,  4.,  8.,  2.,  0.,  0.,  1.]),\n",
       " array([0.02564103, 0.07692308, 0.12820513, 0.17948718, 0.23076923,\n",
       "        0.28205128, 0.33333333, 0.38461538, 0.43589744, 0.48717949,\n",
       "        0.53846154]),\n",
       " <BarContainer object of 10 artists>)"
      ]
     },
     "execution_count": 4,
     "metadata": {},
     "output_type": "execute_result"
    },
    {
     "data": {
      "image/png": "[encoded data removed]",
      "text/plain": [
       "<Figure size 432x288 with 1 Axes>"
      ]
     },
     "metadata": {
      "needs_background": "light"
     },
     "output_type": "display_data"
    }
   ],
   "source": [
    "n_train = 1\n",
    "pert_data = get_pert_data(dataset=\"Norman2019\", seed=0)\n",
    "\n",
    "# Split train and test\n",
    "test_adata = pert_data.adata[pert_data.adata.obs[\"split\"] == \"test\"]\n",
    "train_adata = pert_data.adata[pert_data.adata.obs[\"split\"] == \"train\"]\n",
    "\n",
    "# Get control mean, non control mean (pert_mean), and non control mean differential\n",
    "control_adata = train_adata[train_adata.obs[\"control\"] == 1]\n",
    "pert_adata = train_adata[train_adata.obs[\"control\"] == 0]\n",
    "control_mean = np.array(control_adata.X.mean(axis=0))[0]\n",
    "\n",
    "# Load the baseline results\n",
    "gt = pd.read_csv(\"results/Norman2019_0_nonctl-mean_post-gt.csv\")\n",
    "pred = pd.read_csv(\"results/Norman2019_0_nonctl-mean_post-pred.csv\")\n",
    "\n",
    "if n_train is not None:\n",
    "    gt = gt[gt[\"n_train\"] == n_train]\n",
    "    pred = pred[pred[\"n_train\"] == n_train]\n",
    "\n",
    "post_gt = gt.drop(columns=[\"condition\", \"n_train\"], inplace=False).to_numpy()\n",
    "post_pred = pred.drop(columns=[\"condition\", \"n_train\"], inplace=False).to_numpy()\n",
    "\n",
    "jaccard, pearson = [], []\n",
    "for i in tqdm(range(post_gt.shape[0])):\n",
    "    true_de_ids = get_topk_de_gene_ids(control_mean, post_gt[i], k=20)\n",
    "    pred_de_ids = get_topk_de_gene_ids(control_mean, post_pred[i], k=20)\n",
    "    jaccard.append(jaccard_similarity(true_de_ids, pred_de_ids))\n",
    "\n",
    "print(\"jaccard similarity: \", np.mean(jaccard))\n",
    "# plot histogram of jaccard similarity\n",
    "plt.hist(jaccard, bins=10)"
   ]
  },
  {
   "cell_type": "code",
   "execution_count": 5,
   "metadata": {},
   "outputs": [
    {
     "name": "stderr",
     "output_type": "stream",
     "text": [
      "Found local copy...\n",
      "Found local copy...\n",
      "Found local copy...\n",
      "These perturbations are not in the GO graph and their perturbation can thus not be predicted\n",
      "['RHOXF2BB+ctrl' 'LYL1+IER5L' 'ctrl+IER5L' 'KIAA1804+ctrl' 'IER5L+ctrl'\n",
      " 'RHOXF2BB+ZBTB25' 'RHOXF2BB+SET']\n",
      "Local copy of pyg dataset is detected. Loading...\n",
      "Done!\n",
      "Local copy of split is detected. Loading...\n",
      "Simulation split test composition:\n",
      "combo_seen0:10\n",
      "combo_seen1:48\n",
      "combo_seen2:18\n",
      "unseen_single:41\n",
      "Done!\n"
     ]
    },
    {
     "name": "stdout",
     "output_type": "stream",
     "text": [
      "here1\n"
     ]
    },
    {
     "name": "stderr",
     "output_type": "stream",
     "text": [
      "100%|██████████| 47/47 [00:00<00:00, 1215.48it/s]"
     ]
    },
    {
     "name": "stdout",
     "output_type": "stream",
     "text": [
      "jaccard similarity:  0.36920848109472365\n"
     ]
    },
    {
     "name": "stderr",
     "output_type": "stream",
     "text": [
      "\n"
     ]
    },
    {
     "data": {
      "text/plain": [
       "(array([1., 4., 8., 0., 9., 4., 5., 6., 9., 1.]),\n",
       " array([0.02564103, 0.08974359, 0.15384615, 0.21794872, 0.28205128,\n",
       "        0.34615385, 0.41025641, 0.47435897, 0.53846154, 0.6025641 ,\n",
       "        0.66666667]),\n",
       " <BarContainer object of 10 artists>)"
      ]
     },
     "execution_count": 5,
     "metadata": {},
     "output_type": "execute_result"
    },
    {
     "data": {
      "image/png": "[encoded data removed]",
      "text/plain": [
       "<Figure size 432x288 with 1 Axes>"
      ]
     },
     "metadata": {
      "needs_background": "light"
     },
     "output_type": "display_data"
    }
   ],
   "source": [
    "n_train = 1\n",
    "pert_data = get_pert_data(dataset=\"Norman2019\", seed=0)\n",
    "\n",
    "# Split train and test\n",
    "test_adata = pert_data.adata[pert_data.adata.obs[\"split\"] == \"test\"]\n",
    "train_adata = pert_data.adata[pert_data.adata.obs[\"split\"] == \"train\"]\n",
    "\n",
    "# Get control mean, non control mean (pert_mean), and non control mean differential\n",
    "control_adata = train_adata[train_adata.obs[\"control\"] == 1]\n",
    "pert_adata = train_adata[train_adata.obs[\"control\"] == 0]\n",
    "control_mean = np.array(control_adata.X.mean(axis=0))[0]\n",
    "\n",
    "# Load the baseline results\n",
    "gt = pd.read_csv(\"results/Norman2019_0_matching-mean_post-gt.csv\")\n",
    "pred = pd.read_csv(\"results/Norman2019_0_matching-mean_post-pred.csv\")\n",
    "\n",
    "if n_train is not None:\n",
    "    gt = gt[gt[\"n_train\"] == n_train]\n",
    "    pred = pred[pred[\"n_train\"] == n_train]\n",
    "\n",
    "post_gt = gt.drop(columns=[\"condition\", \"n_train\"], inplace=False).to_numpy()\n",
    "post_pred = pred.drop(columns=[\"condition\", \"n_train\"], inplace=False).to_numpy()\n",
    "\n",
    "jaccard, pearson = [], []\n",
    "for i in tqdm(range(post_gt.shape[0])):\n",
    "    true_de_ids = get_topk_de_gene_ids(control_mean, post_gt[i], k=20)\n",
    "    pred_de_ids = get_topk_de_gene_ids(control_mean, post_pred[i], k=20)\n",
    "    jaccard.append(jaccard_similarity(true_de_ids, pred_de_ids))\n",
    "\n",
    "print(\"jaccard similarity: \", np.mean(jaccard))\n",
    "# plot histogram of jaccard similarity\n",
    "plt.hist(jaccard, bins=10)"
   ]
  },
  {
   "cell_type": "markdown",
   "metadata": {},
   "source": [
    "### 2-gene"
   ]
  },
  {
   "cell_type": "code",
   "execution_count": 6,
   "metadata": {},
   "outputs": [
    {
     "name": "stderr",
     "output_type": "stream",
     "text": [
      "Found local copy...\n",
      "Found local copy...\n",
      "Found local copy...\n",
      "These perturbations are not in the GO graph and their perturbation can thus not be predicted\n",
      "['RHOXF2BB+ctrl' 'LYL1+IER5L' 'ctrl+IER5L' 'KIAA1804+ctrl' 'IER5L+ctrl'\n",
      " 'RHOXF2BB+ZBTB25' 'RHOXF2BB+SET']\n",
      "Local copy of pyg dataset is detected. Loading...\n",
      "Done!\n",
      "Local copy of split is detected. Loading...\n",
      "Simulation split test composition:\n",
      "combo_seen0:10\n",
      "combo_seen1:48\n",
      "combo_seen2:18\n",
      "unseen_single:41\n",
      "Done!\n"
     ]
    },
    {
     "name": "stdout",
     "output_type": "stream",
     "text": [
      "here1\n"
     ]
    },
    {
     "name": "stderr",
     "output_type": "stream",
     "text": [
      "100%|██████████| 13/13 [00:00<00:00, 1285.20it/s]"
     ]
    },
    {
     "name": "stdout",
     "output_type": "stream",
     "text": [
      "jaccard similarity:  0.16374969173830653\n"
     ]
    },
    {
     "name": "stderr",
     "output_type": "stream",
     "text": [
      "\n"
     ]
    },
    {
     "data": {
      "text/plain": [
       "(array([1., 4., 2., 0., 2., 0., 2., 0., 1., 1.]),\n",
       " array([0.08108108, 0.10200523, 0.12292938, 0.14385353, 0.16477768,\n",
       "        0.18570183, 0.20662598, 0.22755013, 0.24847428, 0.26939843,\n",
       "        0.29032258]),\n",
       " <BarContainer object of 10 artists>)"
      ]
     },
     "execution_count": 6,
     "metadata": {},
     "output_type": "execute_result"
    },
    {
     "data": {
      "image/png": "[encoded data removed]",
      "text/plain": [
       "<Figure size 432x288 with 1 Axes>"
      ]
     },
     "metadata": {
      "needs_background": "light"
     },
     "output_type": "display_data"
    }
   ],
   "source": [
    "n_train = 2\n",
    "pert_data = get_pert_data(dataset=\"Norman2019\", seed=0)\n",
    "\n",
    "# Split train and test\n",
    "test_adata = pert_data.adata[pert_data.adata.obs[\"split\"] == \"test\"]\n",
    "train_adata = pert_data.adata[pert_data.adata.obs[\"split\"] == \"train\"]\n",
    "\n",
    "# Get control mean, non control mean (pert_mean), and non control mean differential\n",
    "control_adata = train_adata[train_adata.obs[\"control\"] == 1]\n",
    "pert_adata = train_adata[train_adata.obs[\"control\"] == 0]\n",
    "control_mean = np.array(control_adata.X.mean(axis=0))[0]\n",
    "\n",
    "# Load the baseline results\n",
    "gt = pd.read_csv(\"results/Norman2019_0_nonctl-mean_post-gt.csv\")\n",
    "pred = pd.read_csv(\"results/Norman2019_0_nonctl-mean_post-pred.csv\")\n",
    "\n",
    "if n_train is not None:\n",
    "    gt = gt[gt[\"n_train\"] == n_train]\n",
    "    pred = pred[pred[\"n_train\"] == n_train]\n",
    "\n",
    "post_gt = gt.drop(columns=[\"condition\", \"n_train\"], inplace=False).to_numpy()\n",
    "post_pred = pred.drop(columns=[\"condition\", \"n_train\"], inplace=False).to_numpy()\n",
    "\n",
    "jaccard, pearson = [], []\n",
    "for i in tqdm(range(post_gt.shape[0])):\n",
    "    true_de_ids = get_topk_de_gene_ids(control_mean, post_gt[i], k=20)\n",
    "    pred_de_ids = get_topk_de_gene_ids(control_mean, post_pred[i], k=20)\n",
    "    jaccard.append(jaccard_similarity(true_de_ids, pred_de_ids))\n",
    "\n",
    "print(\"jaccard similarity: \", np.mean(jaccard))\n",
    "# plot histogram of jaccard similarity\n",
    "plt.hist(jaccard, bins=10)"
   ]
  },
  {
   "cell_type": "code",
   "execution_count": 7,
   "metadata": {},
   "outputs": [
    {
     "name": "stderr",
     "output_type": "stream",
     "text": [
      "Found local copy...\n",
      "Found local copy...\n",
      "Found local copy...\n",
      "These perturbations are not in the GO graph and their perturbation can thus not be predicted\n",
      "['RHOXF2BB+ctrl' 'LYL1+IER5L' 'ctrl+IER5L' 'KIAA1804+ctrl' 'IER5L+ctrl'\n",
      " 'RHOXF2BB+ZBTB25' 'RHOXF2BB+SET']\n",
      "Local copy of pyg dataset is detected. Loading...\n",
      "Done!\n",
      "Local copy of split is detected. Loading...\n",
      "Simulation split test composition:\n",
      "combo_seen0:10\n",
      "combo_seen1:48\n",
      "combo_seen2:18\n",
      "unseen_single:41\n",
      "Done!\n"
     ]
    },
    {
     "name": "stdout",
     "output_type": "stream",
     "text": [
      "here1\n"
     ]
    },
    {
     "name": "stderr",
     "output_type": "stream",
     "text": [
      "100%|██████████| 13/13 [00:00<00:00, 1319.54it/s]"
     ]
    },
    {
     "name": "stdout",
     "output_type": "stream",
     "text": [
      "jaccard similarity:  0.5132468968526126\n"
     ]
    },
    {
     "name": "stderr",
     "output_type": "stream",
     "text": [
      "\n"
     ]
    },
    {
     "data": {
      "text/plain": [
       "(array([1., 0., 3., 1., 0., 0., 3., 0., 2., 3.]),\n",
       " array([0.29032258, 0.32795699, 0.3655914 , 0.40322581, 0.44086022,\n",
       "        0.47849462, 0.51612903, 0.55376344, 0.59139785, 0.62903226,\n",
       "        0.66666667]),\n",
       " <BarContainer object of 10 artists>)"
      ]
     },
     "execution_count": 7,
     "metadata": {},
     "output_type": "execute_result"
    },
    {
     "data": {
      "image/png": "[encoded data removed]",
      "text/plain": [
       "<Figure size 432x288 with 1 Axes>"
      ]
     },
     "metadata": {
      "needs_background": "light"
     },
     "output_type": "display_data"
    }
   ],
   "source": [
    "n_train = 2\n",
    "pert_data = get_pert_data(dataset=\"Norman2019\", seed=0)\n",
    "\n",
    "# Split train and test\n",
    "test_adata = pert_data.adata[pert_data.adata.obs[\"split\"] == \"test\"]\n",
    "train_adata = pert_data.adata[pert_data.adata.obs[\"split\"] == \"train\"]\n",
    "\n",
    "# Get control mean, non control mean (pert_mean), and non control mean differential\n",
    "control_adata = train_adata[train_adata.obs[\"control\"] == 1]\n",
    "pert_adata = train_adata[train_adata.obs[\"control\"] == 0]\n",
    "control_mean = np.array(control_adata.X.mean(axis=0))[0]\n",
    "\n",
    "# Load the baseline results\n",
    "gt = pd.read_csv(\"results/Norman2019_0_matching-mean_post-gt.csv\")\n",
    "pred = pd.read_csv(\"results/Norman2019_0_matching-mean_post-pred.csv\")\n",
    "\n",
    "if n_train is not None:\n",
    "    gt = gt[gt[\"n_train\"] == n_train]\n",
    "    pred = pred[pred[\"n_train\"] == n_train]\n",
    "\n",
    "post_gt = gt.drop(columns=[\"condition\", \"n_train\"], inplace=False).to_numpy()\n",
    "post_pred = pred.drop(columns=[\"condition\", \"n_train\"], inplace=False).to_numpy()\n",
    "\n",
    "jaccard, pearson = [], []\n",
    "for i in tqdm(range(post_gt.shape[0])):\n",
    "    true_de_ids = get_topk_de_gene_ids(control_mean, post_gt[i], k=20)\n",
    "    pred_de_ids = get_topk_de_gene_ids(control_mean, post_pred[i], k=20)\n",
    "    jaccard.append(jaccard_similarity(true_de_ids, pred_de_ids))\n",
    "\n",
    "print(\"jaccard similarity: \", np.mean(jaccard))\n",
    "# plot histogram of jaccard similarity\n",
    "plt.hist(jaccard, bins=10)"
   ]
  }
 ],
 "metadata": {
  "kernelspec": {
   "display_name": "base",
   "language": "python",
   "name": "python3"
  },
  "language_info": {
   "codemirror_mode": {
    "name": "ipython",
    "version": 3
   },
   "file_extension": ".py",
   "mimetype": "text/x-python",
   "name": "python",
   "nbconvert_exporter": "python",
   "pygments_lexer": "ipython3",
   "version": "3.8.6"
  }
 },
 "nbformat": 4,
 "nbformat_minor": 2
}
