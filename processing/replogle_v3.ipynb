{
 "cells": [
  {
   "cell_type": "code",
   "execution_count": 2,
   "metadata": {},
   "outputs": [],
   "source": [
    "%load_ext autoreload\n",
    "%autoreload 2"
   ]
  },
  {
   "cell_type": "code",
   "execution_count": 3,
   "metadata": {},
   "outputs": [],
   "source": [
    "from gears import PertData, GEARS\n",
    "import numpy as np\n",
    "import pandas as pd\n",
    "from tqdm import tqdm\n",
    "import scanpy as sc\n",
    "import anndata\n",
    "from scipy.sparse import csr_matrix"
   ]
  },
  {
   "cell_type": "code",
   "execution_count": 4,
   "metadata": {},
   "outputs": [],
   "source": [
    "data_dir = '/mlbio_scratch/vinas/sc_perturbation_benchmark/data/replogle_k562_v3_2022'"
   ]
  },
  {
   "cell_type": "markdown",
   "metadata": {},
   "source": [
    "#### Download data"
   ]
  },
  {
   "cell_type": "markdown",
   "metadata": {},
   "source": [
    "* Download data from https://plus.figshare.com/articles/dataset/_Mapping_information-rich_genotype-phenotype_landscapes_with_genome-scale_Perturb-seq_Replogle_et_al_2022_processed_Perturb-seq_datasets/20029387 \n",
    "    * Files:\n",
    "        * K562_essential_raw_singlecell.h5ad"
   ]
  },
  {
   "cell_type": "code",
   "execution_count": 5,
   "metadata": {},
   "outputs": [],
   "source": [
    "adata = anndata.read_h5ad(f'{data_dir}/K562_essential_raw_singlecell.h5ad')"
   ]
  },
  {
   "cell_type": "markdown",
   "metadata": {},
   "source": [
    "#### scGPT processing\n",
    "Subsample to 100 samples per perturbation and 2500 control samples"
   ]
  },
  {
   "cell_type": "code",
   "execution_count": 6,
   "metadata": {},
   "outputs": [],
   "source": [
    "# Select HVGs\n",
    "sc.pp.normalize_total(adata)\n",
    "sc.pp.log1p(adata)\n",
    "sc.pp.highly_variable_genes(adata, n_top_genes=5000, subset=False)\n",
    "hvg_flag = adata.var['highly_variable'].values\n",
    "gene_flag = adata.var['gene_name'].isin(adata.obs['gene'].values).values\n",
    "select_flag = np.logical_or(hvg_flag, gene_flag)\n",
    "condition_flag = adata.obs['gene'].isin(adata.var['gene_name'].values.tolist()+['non-targeting']).values\n",
    "adata_subset = adata[condition_flag, select_flag]"
   ]
  },
  {
   "cell_type": "code",
   "execution_count": null,
   "metadata": {},
   "outputs": [
    {
     "name": "stderr",
     "output_type": "stream",
     "text": [
      "100%|█████████████████████████████████████████████| 1869/1869 [00:21<00:00, 88.35it/s]\n"
     ]
    }
   ],
   "source": [
    "# Subsample to 100 samples per perturbation and 2500 control samples\n",
    "target_cells = 100\n",
    "cluster_key = 'gene'\n",
    "adatas = [adata_subset[adata_subset.obs[cluster_key]==clust] for clust in adata_subset.obs[cluster_key].cat.categories]\n",
    "for dat in tqdm(adatas):\n",
    "    if dat.n_obs > target_cells:\n",
    "        if dat.obs[cluster_key].cat.categories.values[0] != 'non-targeting':\n",
    "            sc.pp.subsample(dat, n_obs=target_cells)\n",
    "        else:\n",
    "            sc.pp.subsample(dat, n_obs=2500)\n",
    "adata_downsampled = adatas[0].concatenate(*adatas[1:])"
   ]
  },
  {
   "cell_type": "code",
   "execution_count": null,
   "metadata": {},
   "outputs": [],
   "source": [
    "adata_downsampled.obs['condition'] = [i+'+ctrl' for i in adata_downsampled.obs['gene'].values]\n",
    "adata_downsampled.obs['condition'] = adata_downsampled.obs['condition'].replace({'non-targeting+ctrl': 'ctrl'})\n",
    "adata_downsampled.obs['cell_type'] = 'K562'\n",
    "len(adata_downsampled.obs['condition'].unique())"
   ]
  },
  {
   "cell_type": "code",
   "execution_count": null,
   "metadata": {},
   "outputs": [],
   "source": [
    "out_dir = '/mlbio_scratch/vinas/sc_perturbation_benchmark/data/replogle_k562_v3_2022'\n",
    "pert_data = PertData(out_dir)\n",
    "adata_downsampled.X = csr_matrix(adata_downsampled.X)\n",
    "pert_data.new_data_process(dataset_name = 'K562', adata = adata_downsampled)"
   ]
  }
 ],
 "metadata": {
  "kernelspec": {
   "display_name": "perturb_bench",
   "language": "python",
   "name": "perturb_bench"
  },
  "language_info": {
   "codemirror_mode": {
    "name": "ipython",
    "version": 3
   },
   "file_extension": ".py",
   "mimetype": "text/x-python",
   "name": "python",
   "nbconvert_exporter": "python",
   "pygments_lexer": "ipython3",
   "version": "3.10.16"
  }
 },
 "nbformat": 4,
 "nbformat_minor": 4
}
